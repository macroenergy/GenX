{
 "cells": [
  {
   "cell_type": "code",
   "execution_count": 1,
   "id": "79d4ba45",
   "metadata": {},
   "outputs": [],
   "source": [
    "using Revise"
   ]
  },
  {
   "cell_type": "code",
   "execution_count": null,
   "id": "7cf976cd",
   "metadata": {
    "scrolled": true
   },
   "outputs": [
    {
     "name": "stdout",
     "output_type": "stream",
     "text": [
      "Loading packages\n",
      "Configuring Solver\n",
      "Loading Inputs\n",
      "Reading Input CSV Files\n",
      "Load_data.csv Successfully Read!\n",
      "Fuels_data.csv Successfully Read!\n",
      "Generators_data.csv Successfully Read!\n"
     ]
    }
   ],
   "source": [
    "include(\"Run.jl\")"
   ]
  }
 ],
 "metadata": {
  "kernelspec": {
   "display_name": "Julia 1.6.5 with ~/GenX",
   "language": "julia",
   "name": "julia-1.6-genx"
  },
  "language_info": {
   "file_extension": ".jl",
   "mimetype": "application/julia",
   "name": "julia",
   "version": "1.6.5"
  }
 },
 "nbformat": 4,
 "nbformat_minor": 5
}
